{
  "nbformat": 4,
  "nbformat_minor": 0,
  "metadata": {
    "colab": {
      "provenance": []
    },
    "kernelspec": {
      "name": "python3",
      "display_name": "Python 3"
    },
    "language_info": {
      "name": "python"
    }
  },
  "cells": [
    {
      "cell_type": "markdown",
      "source": [
        "**1. Why are functions advantageous to have in your programs?**"
      ],
      "metadata": {
        "id": "GQDLyCk7PY6d"
      }
    },
    {
      "cell_type": "markdown",
      "source": [
        "**ANS :**\n",
        "\n",
        " **Reusability : First of all the main advantage of fuction to have in your prorgam is that you can perform same operation for different time by just calling the function**\n",
        "\n",
        " **Readbility : Function with specific name related to the code can help us to understand code in better way aslo by dividing the code in different functions help us to understand the code in better way**\n",
        "\n",
        " **Debugging and Maintaince : You can test individual function individually without affecting other function in the code**\n",
        "\n",
        " **Abstraction : Function allow us to hide the complex implementation of the code behind a well defined code**\n",
        "\n",
        " **Code Organization : Using function we can divide the program in several part and each part will perform the specific task it make it easy to understand the code**"
      ],
      "metadata": {
        "id": "DYaNRsDRPfjS"
      }
    },
    {
      "cell_type": "markdown",
      "source": [
        "\n",
        "\n",
        "---\n",
        "\n"
      ],
      "metadata": {
        "id": "MvKH8CYFSqZl"
      }
    },
    {
      "cell_type": "markdown",
      "source": [
        "**2. When does the code in a function run: when it specified or when it called?**\n",
        "\n",
        "**ANS :The code within a function runs when the function is called, not when it is specified or defined.**\n",
        "\n",
        "**To execute the code within a function, you need to call the function by using its name followed by parentheses (). The function call triggers the execution of the code inside the function's body.**\n"
      ],
      "metadata": {
        "id": "HEDUnn3FSwVy"
      }
    },
    {
      "cell_type": "markdown",
      "source": [
        "\n",
        "\n",
        "---\n",
        "\n"
      ],
      "metadata": {
        "id": "wAmY3-FqUH7S"
      }
    },
    {
      "cell_type": "markdown",
      "source": [
        "**3. What statement creates a function?**\n",
        "\n",
        "**ANS :In most programming languages, including Python, the def statement is used to create a function. The def statement is short for \"define\" and is specifically designed to define user-defined functions.**"
      ],
      "metadata": {
        "id": "848Qv8LBUOsq"
      }
    },
    {
      "cell_type": "markdown",
      "source": [
        "\n",
        "\n",
        "---\n",
        "\n"
      ],
      "metadata": {
        "id": "V3ntTKJwUgMp"
      }
    },
    {
      "cell_type": "markdown",
      "source": [
        "**4. What is the difference between a function and a function call?**\n",
        "\n",
        "**ANS :**\n",
        "\n",
        "**Function : In simple language the function is the set of instruction which is create to perform some sort of operations. By using def keyword we can create the function**\n",
        "\n",
        "**Function Call : Function call is the process to invoked or call the function. By passing arguments in the function if it contains. It triggers the code inside the function and allow us to pass arguments**"
      ],
      "metadata": {
        "id": "Ors52WKMUj-x"
      }
    },
    {
      "cell_type": "markdown",
      "source": [
        "\n",
        "\n",
        "---\n",
        "\n"
      ],
      "metadata": {
        "id": "pnA2X7XUXVhA"
      }
    },
    {
      "cell_type": "markdown",
      "source": [
        "**5. How many global scopes are there in a Python program? How many local scopes?**"
      ],
      "metadata": {
        "id": "Uphas6qBXZDT"
      }
    },
    {
      "cell_type": "markdown",
      "source": [
        "**ANS : In a Python program, the number of global scopes and local scopes depends on the structure and execution of the code.**\n",
        "\n",
        "**By default, every Python program has at least one global scope, which is the top-level scope. It is created when the program starts and remains accessible throughout the entire program. Variables defined in the global scope can be accessed from any part of the program.**\n",
        "\n",
        "**Local scopes, on the other hand, are created whenever a function is called. Each function call creates its own local scope, which is a separate namespace where variables defined within the function exist. These variables are only accessible within the function and are destroyed once the function finishes executing.**"
      ],
      "metadata": {
        "id": "bwHMza_VI6uV"
      }
    },
    {
      "cell_type": "markdown",
      "source": [
        "\n",
        "\n",
        "---\n",
        "\n"
      ],
      "metadata": {
        "id": "bdMHIzAoJFgp"
      }
    },
    {
      "cell_type": "markdown",
      "source": [
        "**6.What happens to variables in a local scope when the function call returns?**\n",
        "\n",
        "**ANS : When a function call returns in Python, the local scope associated with that function is destroyed, and any variables defined within that scope cease to exist. This process is known as the \"cleanup\" or \"garbage collection\" of local variables.**"
      ],
      "metadata": {
        "id": "Ob9wvpY8JcwX"
      }
    },
    {
      "cell_type": "markdown",
      "source": [
        "\n",
        "\n",
        "---\n",
        "\n"
      ],
      "metadata": {
        "id": "v0_8MS0mJzAv"
      }
    },
    {
      "cell_type": "markdown",
      "source": [
        "**7. What is the concept of a return value? Is it possible to have a return value in an expression?**\n",
        "\n",
        "**ANS : The concept of a return value in programming refers to the value that a function produces and sends back to the caller when it finishes executing. When a function is called, it may perform certain operations, manipulate data, or compute a result. The return value allows the function to communicate and share the result of its computation with the part of the program that called it.**\n",
        "\n",
        "**In Python, a function can use the return statement to specify the value it wants to return. The return statement is followed by an expression or a value that will be sent back as the function's return value.**\n",
        "\n",
        "**Yes, it is possible to have a return value in an expression. In Python, you can use function calls and expressions as part of the return statement. For instance:**\n",
        "\n"
      ],
      "metadata": {
        "id": "fEOnIfZLJ2uu"
      }
    },
    {
      "cell_type": "code",
      "source": [
        "def multiply_numbers(a, b):\n",
        "    return a * b\n",
        "\n",
        "def calculate_total(a, b):\n",
        "    return multiply_numbers(a, b) + 10\n"
      ],
      "metadata": {
        "id": "AkRkXHjeUKpM"
      },
      "execution_count": 1,
      "outputs": []
    },
    {
      "cell_type": "code",
      "source": [
        "multiply_numbers(3 , 5)"
      ],
      "metadata": {
        "colab": {
          "base_uri": "https://localhost:8080/"
        },
        "id": "f7-WdDavLUlz",
        "outputId": "506a8071-63fc-4fcf-b183-1485116562b2"
      },
      "execution_count": 2,
      "outputs": [
        {
          "output_type": "execute_result",
          "data": {
            "text/plain": [
              "15"
            ]
          },
          "metadata": {},
          "execution_count": 2
        }
      ]
    },
    {
      "cell_type": "code",
      "source": [
        "calculate_total(2 , 5)"
      ],
      "metadata": {
        "colab": {
          "base_uri": "https://localhost:8080/"
        },
        "id": "zHhY-v9yLZy5",
        "outputId": "cc699a43-6e7a-47ef-ffb4-c922b737b11c"
      },
      "execution_count": 3,
      "outputs": [
        {
          "output_type": "execute_result",
          "data": {
            "text/plain": [
              "20"
            ]
          },
          "metadata": {},
          "execution_count": 3
        }
      ]
    },
    {
      "cell_type": "markdown",
      "source": [
        "**In this example, the calculate_total function calls the multiply_numbers function and adds 10 to the result returned by multiply_numbers. The expression multiply_numbers(a, b) + 10 is used as the return value of calculate_total.**\n",
        "\n",
        "**By using expressions in the return statement, you can perform computations, manipulate data, or combine multiple values before returning a final result from a function.**"
      ],
      "metadata": {
        "id": "tSgnvbPhLMVn"
      }
    },
    {
      "cell_type": "markdown",
      "source": [
        "\n",
        "\n",
        "---\n",
        "\n"
      ],
      "metadata": {
        "id": "Eaf91im4M3Ud"
      }
    },
    {
      "cell_type": "markdown",
      "source": [
        "**8. If a function does not have a return statement, what is the return value of a call to that function?**\n",
        "\n",
        "**ANS : If a function does not have a return statement or the return statement is without an expression, the function will automatically return a special value called None.**\n",
        "\n",
        "**None is a built-in Python object that represents the absence of a value. It is commonly used to indicate that a function does not explicitly return a value. When a function call reaches the end of its code block or encounters a return statement without an expression, it implicitly returns None.t**"
      ],
      "metadata": {
        "id": "PAxmyxZWPTEv"
      }
    },
    {
      "cell_type": "markdown",
      "source": [
        "\n",
        "\n",
        "---\n",
        "\n"
      ],
      "metadata": {
        "id": "JuV-enMHPhr1"
      }
    },
    {
      "cell_type": "markdown",
      "source": [
        "**9. How do you make a function variable refer to the global variable?**\n",
        "\n",
        "**ANS : In Python, if you want to make a function variable refer to a global variable, you can use the global keyword. The global keyword is used to indicate that a variable within a function should refer to the global variable of the same name, rather than creating a new local variable.**"
      ],
      "metadata": {
        "id": "QL68Go5PPwD4"
      }
    },
    {
      "cell_type": "markdown",
      "source": [
        "\n",
        "\n",
        "---\n",
        "\n"
      ],
      "metadata": {
        "id": "aj-LNRsFP3m5"
      }
    },
    {
      "cell_type": "markdown",
      "source": [
        "**10. What is the data type of None?**\n",
        "\n",
        "**ANS : \"NoneType\"**"
      ],
      "metadata": {
        "id": "Iis9S_UeP5BY"
      }
    },
    {
      "cell_type": "markdown",
      "source": [
        "\n",
        "\n",
        "---\n",
        "\n"
      ],
      "metadata": {
        "id": "0_XQEn6kQ49p"
      }
    },
    {
      "cell_type": "markdown",
      "source": [
        "**11. What does the sentence import areallyourpetsnamederic do?**\n",
        "\n",
        "**The sentence \"import areallyourpetsnamederic\" is not a valid Python import statement. In Python, the import keyword is used to import modules or packages, which are files containing Python code that can be reused in other programs.**\n",
        "\n",
        "**Because it is not valid name it gives us error as**\n",
        "\n",
        "**No module named 'areallyourpetsnamederic'**"
      ],
      "metadata": {
        "id": "S4RwbYRsQ6jf"
      }
    },
    {
      "cell_type": "markdown",
      "source": [
        "\n",
        "\n",
        "---\n",
        "\n"
      ],
      "metadata": {
        "id": "TkWsHpcHR-H9"
      }
    },
    {
      "cell_type": "markdown",
      "source": [
        "**12. If you had a bacon() feature in a spam module, what would you call it after importing spam?**\n",
        "\n",
        "**ANS :If you have a bacon() feature in a module named spam, you can call it after importing the spam module using the dot notation.**\n"
      ],
      "metadata": {
        "id": "BQ0SCN8eR_Jg"
      }
    },
    {
      "cell_type": "code",
      "source": [
        "import spam\n",
        "\n",
        "spam.bacon()"
      ],
      "metadata": {
        "id": "b5XVnG60TEXF"
      },
      "execution_count": null,
      "outputs": []
    },
    {
      "cell_type": "markdown",
      "source": [
        "**In this example, we import the spam module using the import statement. Then, we can access the bacon() function from the spam module by using the dot notation: spam.bacon(). This syntax allows us to call the bacon() function that is defined within the spam module.**"
      ],
      "metadata": {
        "id": "A-8u3m9QTIUN"
      }
    },
    {
      "cell_type": "markdown",
      "source": [
        "\n",
        "\n",
        "---\n",
        "\n"
      ],
      "metadata": {
        "id": "ybnJw4f-TUm3"
      }
    },
    {
      "cell_type": "markdown",
      "source": [
        "**13. What can you do to save a programme from crashing if it encounters an error?**\n",
        "\n",
        "**ANS : To prevent a program from crashing when it encounters an error, you can use error handling techniques to catch and handle exceptions. Exceptions are errors that occur during program execution, and by handling them appropriately, you can gracefully manage errors and keep your program running.**"
      ],
      "metadata": {
        "id": "F4ku-F6sTYWu"
      }
    },
    {
      "cell_type": "markdown",
      "source": [
        "\n",
        "\n",
        "---\n",
        "\n"
      ],
      "metadata": {
        "id": "P_vXACm2URM2"
      }
    },
    {
      "cell_type": "markdown",
      "source": [
        "**14. What is the purpose of the try clause? What is the purpose of the except clause?**\n",
        "\n",
        "**ANS :**\n",
        "\n",
        "**try clause: The purpose of the try clause is to enclose the block of code that may raise an exception. It is used to mark the section of code where potential errors or exceptions might occur. By placing the code within a try block, you indicate that you are aware of the possibility of an exception and want to handle it gracefully.**\n",
        "\n",
        "**except clause: The purpose of the except clause is to define the specific exception types that you want to catch and handle. When an exception occurs within the try block, the program flow transfers to the corresponding except block that matches the type of the raised exception. The except block specifies how to handle that particular type of exception.**"
      ],
      "metadata": {
        "id": "EfgLv7EHUStG"
      }
    },
    {
      "cell_type": "markdown",
      "source": [
        "\n",
        "\n",
        "---\n",
        "\n"
      ],
      "metadata": {
        "id": "tEoaznI6WGcm"
      }
    }
  ]
}